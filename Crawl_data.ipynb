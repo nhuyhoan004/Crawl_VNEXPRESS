{
 "cells": [
  {
   "cell_type": "code",
   "execution_count": 7,
   "metadata": {},
   "outputs": [],
   "source": [
    "import requests\n",
    "from bs4 import BeautifulSoup\n",
    "import csv\n",
    "import math\n"
   ]
  },
  {
   "cell_type": "code",
   "execution_count": 8,
   "metadata": {},
   "outputs": [],
   "source": [
    "# Danh sách chuyên mục và đường dẫn\n",
    "topics = [\n",
    "    {\"name\": \"Thời sự\", \"tag\": \"thoi-su\"},\n",
    "    {\"name\": \"Thế giới\", \"tag\": \"the-gioi\"},\n",
    "    {\"name\": \"Kinh doanh\", \"tag\": \"kinh-doanh\"},\n",
    "    {\"name\": \"Bất động sản\", \"tag\": \"bat-dong-san\"},\n",
    "    {\"name\": \"Khoa học\", \"tag\": \"khoa-hoc\"},\n",
    "    {\"name\": \"Giải trí\", \"tag\": \"giai-tri\"},\n",
    "    {\"name\": \"Thể thao\", \"tag\": \"the-thao\"},\n",
    "    {\"name\": \"Pháp luật\", \"tag\": \"phap-luat\"},\n",
    "    {\"name\": \"Giáo dục\", \"tag\": \"giao-duc\"},\n",
    "    {\"name\": \"Sức khỏe\", \"tag\": \"suc-khoe\"},\n",
    "    {\"name\": \"Đời sống\", \"tag\": \"doi-song\"},\n",
    "    {\"name\": \"Du lịch\", \"tag\": \"du-lich\"},\n",
    "    {\"name\": \"Số hóa\", \"tag\": \"so-hoa\"},\n",
    "    {\"name\": \"Ôtô - Xe máy\", \"tag\": \"oto-xe-may\"},\n",
    "    {\"name\": \"Ý kiến\", \"tag\": \"y-kien\"},\n",
    "]\n",
    "\n"
   ]
  },
  {
   "cell_type": "code",
   "execution_count": 9,
   "metadata": {},
   "outputs": [],
   "source": [
    "# Số lượng bài viết cần crawl\n",
    "TOTAL_ARTICLES = 10000"
   ]
  },
  {
   "cell_type": "code",
   "execution_count": 10,
   "metadata": {},
   "outputs": [
    {
     "name": "stdout",
     "output_type": "stream",
     "text": [
      "Số lượng bài viết cần crawl cho mỗi chuyên mục: 667\n"
     ]
    }
   ],
   "source": [
    "# Base URL của trang VnExpress\n",
    "base_url = \"https://vnexpress.net/\"\n",
    "\n",
    "# Tính số lượng bài viết tối đa cho mỗi chuyên mục\n",
    "articles_per_topic = math.ceil(TOTAL_ARTICLES / len(topics))\n",
    "print(f\"Số lượng bài viết cần crawl cho mỗi chuyên mục: {articles_per_topic}\")"
   ]
  },
  {
   "cell_type": "code",
   "execution_count": 11,
   "metadata": {},
   "outputs": [],
   "source": [
    "def crawl_articles(base_url, topic, max_titles):\n",
    "    \"\"\"Crawl bài báo từ một chuyên mục.\"\"\"\n",
    "    topic_name = topic[\"name\"]\n",
    "    tag = topic[\"tag\"]\n",
    "    titles = []\n",
    "    count_titles = 0\n",
    "    page = 1\n",
    "\n",
    "    while count_titles < max_titles:\n",
    "        # Xây dựng URL phân trang\n",
    "        if page == 1:\n",
    "            url = f\"{base_url}{tag}\"\n",
    "        else:\n",
    "            url = f\"{base_url}{tag}-p{page}\"\n",
    "        \n",
    "        # Gửi request đến URL\n",
    "        response = requests.get(url)\n",
    "        if response.status_code != 200:\n",
    "            print(f\"Không thể truy cập {url}. Mã lỗi: {response.status_code}\")\n",
    "            break\n",
    "        \n",
    "        # Parse HTML để lấy bài báo\n",
    "        soup = BeautifulSoup(response.content, \"html.parser\")\n",
    "        articles = soup.select(\".title-news a[title]\")\n",
    "        if not articles:  # Nếu không còn bài viết, thoát vòng lặp\n",
    "            break\n",
    "        \n",
    "        # Lấy tiêu đề các bài báo\n",
    "        for article in articles:\n",
    "            if count_titles >= max_titles:\n",
    "                break\n",
    "            title = article.get(\"title\").strip()\n",
    "            titles.append((title, topic_name))\n",
    "            count_titles += 1\n",
    "        \n",
    "        page += 1\n",
    "    \n",
    "    return titles"
   ]
  },
  {
   "cell_type": "code",
   "execution_count": 12,
   "metadata": {},
   "outputs": [],
   "source": [
    "def save_to_csv(data, filename=\"vnexpress_articles.csv\"):\n",
    "    \"\"\"Ghi dữ liệu vào file CSV.\"\"\"\n",
    "    with open(filename, mode=\"w\", encoding=\"utf-8\", newline=\"\") as file:\n",
    "        writer = csv.writer(file)\n",
    "        writer.writerow([\"Title\", \"Topic\"])  # Header\n",
    "        writer.writerows(data)\n",
    "    print(f\"Đã lưu {len(data)} bài báo vào file '{filename}'\")"
   ]
  },
  {
   "cell_type": "code",
   "execution_count": 13,
   "metadata": {},
   "outputs": [
    {
     "name": "stdout",
     "output_type": "stream",
     "text": [
      "Đang crawl chuyên mục: Thời sự...\n",
      "Đang crawl chuyên mục: Thế giới...\n",
      "Đang crawl chuyên mục: Kinh doanh...\n",
      "Đang crawl chuyên mục: Bất động sản...\n",
      "Đang crawl chuyên mục: Khoa học...\n",
      "Đang crawl chuyên mục: Giải trí...\n",
      "Đang crawl chuyên mục: Thể thao...\n",
      "Đang crawl chuyên mục: Pháp luật...\n",
      "Đang crawl chuyên mục: Giáo dục...\n",
      "Đang crawl chuyên mục: Sức khỏe...\n",
      "Đang crawl chuyên mục: Đời sống...\n",
      "Đang crawl chuyên mục: Du lịch...\n",
      "Đang crawl chuyên mục: Số hóa...\n",
      "Đang crawl chuyên mục: Ôtô - Xe máy...\n",
      "Đang crawl chuyên mục: Ý kiến...\n",
      "Tổng số bài báo đã crawl: 9293\n"
     ]
    }
   ],
   "source": [
    "# Crawl dữ liệu\n",
    "all_articles = []\n",
    "\n",
    "for topic in topics:\n",
    "    print(f\"Đang crawl chuyên mục: {topic['name']}...\")\n",
    "    articles = crawl_articles(base_url, topic, articles_per_topic)\n",
    "    all_articles.extend(articles)\n",
    "\n",
    "print(f\"Tổng số bài báo đã crawl: {len(all_articles)}\")"
   ]
  },
  {
   "cell_type": "code",
   "execution_count": 14,
   "metadata": {},
   "outputs": [
    {
     "name": "stdout",
     "output_type": "stream",
     "text": [
      "Đã lưu 9293 bài báo vào file 'vnexpress_articles.csv'\n"
     ]
    }
   ],
   "source": [
    "# Ghi dữ liệu vào file CSV\n",
    "save_to_csv(all_articles, \"vnexpress_articles.csv\")\n"
   ]
  },
  {
   "cell_type": "code",
   "execution_count": 15,
   "metadata": {},
   "outputs": [
    {
     "data": {
      "text/html": [
       "<div>\n",
       "<style scoped>\n",
       "    .dataframe tbody tr th:only-of-type {\n",
       "        vertical-align: middle;\n",
       "    }\n",
       "\n",
       "    .dataframe tbody tr th {\n",
       "        vertical-align: top;\n",
       "    }\n",
       "\n",
       "    .dataframe thead th {\n",
       "        text-align: right;\n",
       "    }\n",
       "</style>\n",
       "<table border=\"1\" class=\"dataframe\">\n",
       "  <thead>\n",
       "    <tr style=\"text-align: right;\">\n",
       "      <th></th>\n",
       "      <th>Title</th>\n",
       "      <th>Topic</th>\n",
       "    </tr>\n",
       "  </thead>\n",
       "  <tbody>\n",
       "    <tr>\n",
       "      <th>0</th>\n",
       "      <td>Dự kiến tên các Bộ sau hợp nhất</td>\n",
       "      <td>Thời sự</td>\n",
       "    </tr>\n",
       "    <tr>\n",
       "      <th>1</th>\n",
       "      <td>Cụm dân cư gần 400 người 'không được thừa nhận...</td>\n",
       "      <td>Thời sự</td>\n",
       "    </tr>\n",
       "    <tr>\n",
       "      <th>2</th>\n",
       "      <td>Ông Lê Doãn Hợp: '9-10 người dân nuôi một ngườ...</td>\n",
       "      <td>Thời sự</td>\n",
       "    </tr>\n",
       "    <tr>\n",
       "      <th>3</th>\n",
       "      <td>TP HCM dự tính bắn pháo hoa 3 điểm dịp Tết Dươ...</td>\n",
       "      <td>Thời sự</td>\n",
       "    </tr>\n",
       "    <tr>\n",
       "      <th>4</th>\n",
       "      <td>Dự kiến bắn 21 loạt đại bác kỷ niệm 50 năm thố...</td>\n",
       "      <td>Thời sự</td>\n",
       "    </tr>\n",
       "    <tr>\n",
       "      <th>5</th>\n",
       "      <td>Tổng Bí thư: Chọn công nghệ tốt nhất làm điện ...</td>\n",
       "      <td>Thời sự</td>\n",
       "    </tr>\n",
       "    <tr>\n",
       "      <th>6</th>\n",
       "      <td>Đề nghị cấp bằng Tổ quốc ghi công cho 12 quân ...</td>\n",
       "      <td>Thời sự</td>\n",
       "    </tr>\n",
       "    <tr>\n",
       "      <th>7</th>\n",
       "      <td>Thủ tướng: Đa dạng nguồn lực để xây đường sắt ...</td>\n",
       "      <td>Thời sự</td>\n",
       "    </tr>\n",
       "    <tr>\n",
       "      <th>8</th>\n",
       "      <td>Nam công nhân lao mình cứu người phụ nữ nhảy cầu</td>\n",
       "      <td>Thời sự</td>\n",
       "    </tr>\n",
       "    <tr>\n",
       "      <th>9</th>\n",
       "      <td>Nguy cơ tai nạn từ khách nước ngoài chạy xe má...</td>\n",
       "      <td>Thời sự</td>\n",
       "    </tr>\n",
       "  </tbody>\n",
       "</table>\n",
       "</div>"
      ],
      "text/plain": [
       "                                               Title    Topic\n",
       "0                    Dự kiến tên các Bộ sau hợp nhất  Thời sự\n",
       "1  Cụm dân cư gần 400 người 'không được thừa nhận...  Thời sự\n",
       "2  Ông Lê Doãn Hợp: '9-10 người dân nuôi một ngườ...  Thời sự\n",
       "3  TP HCM dự tính bắn pháo hoa 3 điểm dịp Tết Dươ...  Thời sự\n",
       "4  Dự kiến bắn 21 loạt đại bác kỷ niệm 50 năm thố...  Thời sự\n",
       "5  Tổng Bí thư: Chọn công nghệ tốt nhất làm điện ...  Thời sự\n",
       "6  Đề nghị cấp bằng Tổ quốc ghi công cho 12 quân ...  Thời sự\n",
       "7  Thủ tướng: Đa dạng nguồn lực để xây đường sắt ...  Thời sự\n",
       "8   Nam công nhân lao mình cứu người phụ nữ nhảy cầu  Thời sự\n",
       "9  Nguy cơ tai nạn từ khách nước ngoài chạy xe má...  Thời sự"
      ]
     },
     "execution_count": 15,
     "metadata": {},
     "output_type": "execute_result"
    }
   ],
   "source": [
    "import pandas as pd\n",
    "\n",
    "# Đọc file CSV để kiểm tra\n",
    "data = pd.read_csv(\"vnexpress_articles.csv\")\n",
    "data.head(10)\n"
   ]
  }
 ],
 "metadata": {
  "kernelspec": {
   "display_name": "myenv",
   "language": "python",
   "name": "python3"
  },
  "language_info": {
   "codemirror_mode": {
    "name": "ipython",
    "version": 3
   },
   "file_extension": ".py",
   "mimetype": "text/x-python",
   "name": "python",
   "nbconvert_exporter": "python",
   "pygments_lexer": "ipython3",
   "version": "3.12.3"
  }
 },
 "nbformat": 4,
 "nbformat_minor": 2
}
